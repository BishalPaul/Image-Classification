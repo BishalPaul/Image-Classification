{
 "cells": [
  {
   "cell_type": "code",
   "execution_count": 20,
   "metadata": {},
   "outputs": [],
   "source": [
    "import os\n",
    "import cv2\n",
    "import matplotlib.pyplot as plt\n",
    "import numpy as np\n",
    "\n",
    "datadir='E:/Machine Learning/train'\n",
    "#categories=['cat','dog']\n",
    "\n",
    "#for category in categories:\n",
    "#path=os.path(datadir) # path to cats and dogs directory"
   ]
  },
  {
   "cell_type": "code",
   "execution_count": 4,
   "metadata": {},
   "outputs": [
    {
     "name": "stdout",
     "output_type": "stream",
     "text": [
      "(374, 500)\n"
     ]
    }
   ],
   "source": [
    "print(img_array.shape)"
   ]
  },
  {
   "cell_type": "code",
   "execution_count": 5,
   "metadata": {},
   "outputs": [
    {
     "data": {
      "image/png": "[encoded data removed]",
      "text/plain": [
       "<Figure size 432x288 with 1 Axes>"
      ]
     },
     "metadata": {
      "needs_background": "light"
     },
     "output_type": "display_data"
    }
   ],
   "source": [
    "img_size=50\n",
    "\n",
    "new_array=cv2.resize(img_array,(img_size,img_size))\n",
    "\n",
    "plt.imshow(new_array, cmap='gray')\n",
    "plt.show()"
   ]
  },
  {
   "cell_type": "code",
   "execution_count": 6,
   "metadata": {},
   "outputs": [],
   "source": [
    "training_data=[]\n",
    "\n",
    "def creating_training_data():\n",
    "    for img in os.listdir(datadir):\n",
    "        try:\n",
    "            img_array=cv2.imread(os.path.join(datadir,img),cv2.IMREAD_GRAYSCALE)\n",
    "            if img.startswith('cat'):\n",
    "                class_num=0\n",
    "            else:\n",
    "                class_num=1\n",
    "            new_array=cv2.resize(img_array,(img_size,img_size))\n",
    "    \n",
    "            training_data.append([new_array,class_num])\n",
    "        except Exception as e:\n",
    "            pass\n",
    "creating_training_data()"
   ]
  },
  {
   "cell_type": "code",
   "execution_count": 8,
   "metadata": {},
   "outputs": [
    {
     "name": "stdout",
     "output_type": "stream",
     "text": [
      "25000\n"
     ]
    }
   ],
   "source": [
    "print(len(training_data))"
   ]
  },
  {
   "cell_type": "code",
   "execution_count": 9,
   "metadata": {},
   "outputs": [],
   "source": [
    "import random\n",
    "random.shuffle(training_data)"
   ]
  },
  {
   "cell_type": "code",
   "execution_count": 10,
   "metadata": {},
   "outputs": [
    {
     "name": "stdout",
     "output_type": "stream",
     "text": [
      "1\n",
      "1\n",
      "0\n",
      "0\n",
      "0\n",
      "1\n",
      "0\n",
      "1\n",
      "1\n",
      "0\n"
     ]
    }
   ],
   "source": [
    "for sample in training_data[:10]:\n",
    "    print(sample[1])"
   ]
  },
  {
   "cell_type": "code",
   "execution_count": 11,
   "metadata": {},
   "outputs": [],
   "source": [
    "x=[]\n",
    "y=[]\n",
    "\n",
    "for features, labels in training_data:\n",
    "    x.append(features)\n",
    "    y.append(labels)\n",
    "\n",
    "x=np.array(x).reshape(-1,img_size,img_size,1)\n"
   ]
  },
  {
   "cell_type": "code",
   "execution_count": 17,
   "metadata": {},
   "outputs": [],
   "source": [
    "import pickle\n",
    "\n",
    "pickle_out=open('x.pickle','wb')\n",
    "pickle.dump(x, pickle_out)\n",
    "pickle_out.close()\n",
    "\n",
    "pickle_out=open('y.pickle','wb')\n",
    "pickle.dump(y, pickle_out)\n",
    "pickle_out.close()"
   ]
  },
  {
   "cell_type": "code",
   "execution_count": 18,
   "metadata": {},
   "outputs": [],
   "source": [
    "pickle_in=open('x.pickle','rb')\n",
    "x=pickle.load(pickle_in)\n",
    "pickle_in=open('y.pickle','rb')\n",
    "y=pickle.load(pickle_in)"
   ]
  },
  {
   "cell_type": "code",
   "execution_count": 12,
   "metadata": {},
   "outputs": [],
   "source": [
    "x=x/255.0"
   ]
  },
  {
   "cell_type": "code",
   "execution_count": 13,
   "metadata": {},
   "outputs": [],
   "source": [
    "from tensorflow.keras.models import Sequential\n",
    "from tensorflow.keras.layers import Dense, Activation, Conv2D, Flatten, MaxPooling2D"
   ]
  },
  {
   "cell_type": "code",
   "execution_count": 14,
   "metadata": {},
   "outputs": [
    {
     "name": "stdout",
     "output_type": "stream",
     "text": [
      "WARNING:tensorflow:From C:\\Users\\USER\\Anaconda3\\lib\\site-packages\\tensorflow\\python\\ops\\resource_variable_ops.py:435: colocate_with (from tensorflow.python.framework.ops) is deprecated and will be removed in a future version.\n",
      "Instructions for updating:\n",
      "Colocations handled automatically by placer.\n",
      "Train on 22500 samples, validate on 2500 samples\n",
      "WARNING:tensorflow:From C:\\Users\\USER\\Anaconda3\\lib\\site-packages\\tensorflow\\python\\ops\\math_ops.py:3066: to_int32 (from tensorflow.python.ops.math_ops) is deprecated and will be removed in a future version.\n",
      "Instructions for updating:\n",
      "Use tf.cast instead.\n",
      "Epoch 1/10\n",
      "22500/22500 [==============================] - 838s 37ms/sample - loss: 0.6297 - acc: 0.6459 - val_loss: 0.5474 - val_acc: 0.7272\n",
      "Epoch 2/10\n",
      "22500/22500 [==============================] - 856s 38ms/sample - loss: 0.5415 - acc: 0.7301 - val_loss: 0.5062 - val_acc: 0.7596\n",
      "Epoch 3/10\n",
      "22500/22500 [==============================] - 460s 20ms/sample - loss: 0.5001 - acc: 0.7608 - val_loss: 0.4968 - val_acc: 0.7624\n",
      "Epoch 4/10\n",
      "22500/22500 [==============================] - 453s 20ms/sample - loss: 0.4711 - acc: 0.7806 - val_loss: 0.4651 - val_acc: 0.7880\n",
      "Epoch 5/10\n",
      "22500/22500 [==============================] - 454s 20ms/sample - loss: 0.4425 - acc: 0.7969 - val_loss: 0.4526 - val_acc: 0.7924\n",
      "Epoch 6/10\n",
      "22500/22500 [==============================] - 461s 21ms/sample - loss: 0.4188 - acc: 0.8095 - val_loss: 0.4493 - val_acc: 0.7872\n",
      "Epoch 7/10\n",
      "22500/22500 [==============================] - 2079s 92ms/sample - loss: 0.3966 - acc: 0.8214 - val_loss: 0.4676 - val_acc: 0.7968\n",
      "Epoch 8/10\n",
      "22500/22500 [==============================] - 447s 20ms/sample - loss: 0.3742 - acc: 0.8342 - val_loss: 0.4733 - val_acc: 0.7864\n",
      "Epoch 9/10\n",
      "22500/22500 [==============================] - 447s 20ms/sample - loss: 0.3615 - acc: 0.8396 - val_loss: 0.4329 - val_acc: 0.8100\n",
      "Epoch 10/10\n",
      "22500/22500 [==============================] - 445s 20ms/sample - loss: 0.3461 - acc: 0.8462 - val_loss: 0.4517 - val_acc: 0.8012\n"
     ]
    },
    {
     "data": {
      "text/plain": [
       "<tensorflow.python.keras.callbacks.History at 0x31a7b668>"
      ]
     },
     "execution_count": 14,
     "metadata": {},
     "output_type": "execute_result"
    }
   ],
   "source": [
    "model=Sequential()\n",
    "\n",
    "model.add(Conv2D(64, (3,3), input_shape=x.shape[1:]))\n",
    "model.add(Activation('relu'))\n",
    "model.add(MaxPooling2D(pool_size=(2,2)))\n",
    "\n",
    "model.add(Conv2D(64, (3,3)))\n",
    "model.add(Activation('relu'))\n",
    "model.add(MaxPooling2D(pool_size=(2,2)))\n",
    "\n",
    "model.add(Flatten())\n",
    "\n",
    "model.add(Dense(64))\n",
    "\n",
    "model.add(Dense(1))\n",
    "model.add(Activation('sigmoid'))\n",
    "\n",
    "model.compile(optimizer='adam', loss='binary_crossentropy', metrics=['accuracy'])\n",
    "\n",
    "model.fit(x,y, batch_size=35, validation_split=0.1, epochs=10)"
   ]
  },
  {
   "cell_type": "code",
   "execution_count": 18,
   "metadata": {},
   "outputs": [],
   "source": [
    "def prepare(filepath):\n",
    "    img_size=50\n",
    "    img_arr=cv2.imread(filepath, cv2.IMREAD_GRAYSCALE)\n",
    "    new_arr=cv2.resize(img_arr,( img_size, img_size))\n",
    "    return new_arr.reshape(-1,img_size, img_size,1)\n",
    "predictions=model.predict([prepare('E:/Machine Learning/dogs.jpg')])\n",
    "if predictions==1:\n",
    "    predictions='Dog'\n",
    "else:\n",
    "    predictions='Cat'"
   ]
  },
  {
   "cell_type": "code",
   "execution_count": 19,
   "metadata": {},
   "outputs": [
    {
     "data": {
      "text/plain": [
       "'Dog'"
      ]
     },
     "execution_count": 19,
     "metadata": {},
     "output_type": "execute_result"
    }
   ],
   "source": [
    "predictions"
   ]
  },
  {
   "cell_type": "code",
   "execution_count": null,
   "metadata": {},
   "outputs": [],
   "source": []
  }
 ],
 "metadata": {
  "kernelspec": {
   "display_name": "Python 3",
   "language": "python",
   "name": "python3"
  },
  "language_info": {
   "codemirror_mode": {
    "name": "ipython",
    "version": 3
   },
   "file_extension": ".py",
   "mimetype": "text/x-python",
   "name": "python",
   "nbconvert_exporter": "python",
   "pygments_lexer": "ipython3",
   "version": "3.7.1"
  }
 },
 "nbformat": 4,
 "nbformat_minor": 2
}
